{
  "nbformat": 4,
  "nbformat_minor": 0,
  "metadata": {
    "colab": {
      "name": "Solutions Notebook: Regression Analysis with Python",
      "provenance": [],
      "collapsed_sections": [
        "8tAUAu98l-E6",
        "AdqLGpdH_867",
        "4eKKFvwwm0nk",
        "VeNigGva1M-9",
        "dZnt55W161xq",
        "VBR8j6zJ61xz",
        "IgEBQBE07JH-",
        "RaeZQ2_t7eUC",
        "5UjUUJgY7eUJ"
      ],
      "toc_visible": true,
      "include_colab_link": true
    },
    "kernelspec": {
      "name": "python3",
      "display_name": "Python 3"
    }
  },
  "cells": [
    {
      "cell_type": "markdown",
      "metadata": {
        "id": "view-in-github",
        "colab_type": "text"
      },
      "source": [
        "<a href=\"https://colab.research.google.com/github/abel-keya/Supervised_Learning/blob/master/Solutions_Notebook_Regression_Analysis_with_Python.ipynb\" target=\"_parent\"><img src=\"https://colab.research.google.com/assets/colab-badge.svg\" alt=\"Open In Colab\"/></a>"
      ]
    },
    {
      "cell_type": "markdown",
      "metadata": {
        "id": "_XzGFitQl60K",
        "colab_type": "text"
      },
      "source": [
        "# Solutions Notebook: Regression Analysis with Python"
      ]
    },
    {
      "cell_type": "markdown",
      "metadata": {
        "id": "8tAUAu98l-E6",
        "colab_type": "text"
      },
      "source": [
        "## 1. Simple Linear Regression"
      ]
    },
    {
      "cell_type": "markdown",
      "metadata": {
        "id": "AdqLGpdH_867",
        "colab_type": "text"
      },
      "source": [
        "#### <font color=\"blue\">Pre-requisites</font>"
      ]
    },
    {
      "cell_type": "code",
      "metadata": {
        "id": "Gxs3j_OJQ7my",
        "colab_type": "code",
        "colab": {}
      },
      "source": [
        "# The first thing that we will do is to import the required datasets\n",
        "# ---\n",
        "# OUR CODE GOES BELOW\n",
        "#  \n",
        "\n",
        "# Importing pandas for data manipulation\n",
        "# \n",
        "import pandas as pd \n",
        "\n",
        "# Importing numpy for mathematical functions\n",
        "import numpy as np\n",
        "\n",
        "# Importing matplotlib for creating visualisations\n",
        "# \n",
        "import matplotlib.pyplot as plt\n",
        "%matplotlib inline"
      ],
      "execution_count": 0,
      "outputs": []
    },
    {
      "cell_type": "markdown",
      "metadata": {
        "id": "4eKKFvwwm0nk",
        "colab_type": "text"
      },
      "source": [
        "#### <font color=\"green\">Challenge</font>"
      ]
    },
    {
      "cell_type": "code",
      "metadata": {
        "id": "CJ-T2bNMm0AZ",
        "colab_type": "code",
        "colab": {}
      },
      "source": [
        "# Challenge \n",
        "# ---\n",
        "# Create a regression model that predicts salary based on years of experience.\n",
        "# ---\n",
        "# Dataset url = http://bit.ly/SLRSalaryDataset\n",
        "# ---\n",
        "# OUR CODE GOES BELOW\n",
        "#"
      ],
      "execution_count": 0,
      "outputs": []
    },
    {
      "cell_type": "code",
      "metadata": {
        "id": "g9fVz_GTmMIZ",
        "colab_type": "code",
        "colab": {}
      },
      "source": [
        "# The first step that we will take is to import our dataset and store it in our dataframe named df\n",
        "# --- \n",
        "# \n",
        "df = pd.read_csv('http://bit.ly/SLRSalaryDataset')"
      ],
      "execution_count": 0,
      "outputs": []
    },
    {
      "cell_type": "code",
      "metadata": {
        "id": "ibEJZ9cImQZ4",
        "colab_type": "code",
        "colab": {}
      },
      "source": [
        "# We will then determine the size of our dataset using the keyword shape\n",
        "# ---\n",
        "# \n",
        "df.shape"
      ],
      "execution_count": 0,
      "outputs": []
    },
    {
      "cell_type": "code",
      "metadata": {
        "id": "L6GBvYsFmSrO",
        "colab_type": "code",
        "colab": {}
      },
      "source": [
        "# The preview our dataset using the head function()\n",
        "# ---\n",
        "#\n",
        "df.head()"
      ],
      "execution_count": 0,
      "outputs": []
    },
    {
      "cell_type": "code",
      "metadata": {
        "id": "neJ-uorpmU8f",
        "colab_type": "code",
        "colab": {}
      },
      "source": [
        "# We can also display the statistical summary of our dataset. \n",
        "# ---\n",
        "# \n",
        "df.describe()"
      ],
      "execution_count": 0,
      "outputs": []
    },
    {
      "cell_type": "code",
      "metadata": {
        "id": "qaI4wO04mW4I",
        "colab_type": "code",
        "colab": {}
      },
      "source": [
        "# Lets confirm for missing values in our dataset. \n",
        "# We can already see from our summary that the count \n",
        "# of the y variable is not equal to x\n",
        "# ---\n",
        "#\n",
        "df.isnull().sum()\n",
        "\n",
        "# Observation \n",
        "# ---\n",
        "# One record has a missing"
      ],
      "execution_count": 0,
      "outputs": []
    },
    {
      "cell_type": "code",
      "metadata": {
        "id": "7kv0_3TEmZgt",
        "colab_type": "code",
        "colab": {}
      },
      "source": [
        "# We can then resolve to propping all records with N/A from our dataset\n",
        "# This would be for the reason that there won't be any significant effect in analysis.\n",
        "# ---\n",
        "#\n",
        "df = df.dropna() "
      ],
      "execution_count": 0,
      "outputs": []
    },
    {
      "cell_type": "code",
      "metadata": {
        "id": "7CP__N4Vma4g",
        "colab_type": "code",
        "colab": {}
      },
      "source": [
        "# Lets check again for missing values in our dataset\n",
        "# ---\n",
        "#\n",
        "df.isnull().sum()"
      ],
      "execution_count": 0,
      "outputs": []
    },
    {
      "cell_type": "code",
      "metadata": {
        "id": "utzRdNWpmcp8",
        "colab_type": "code",
        "colab": {}
      },
      "source": [
        "# We the perform exploratory analysis to understand more about our dataset\n",
        "# ---\n",
        "# In our case here, we will only find if there is any relationships between the two variables.\n",
        "# ---\n",
        "# \n",
        "df.plot(x='YearsExperience', y= 'Salary', style='o') \n",
        "plt.title('Years of Experience vs Salary')\n",
        "plt.xlabel('Years of Experience')\n",
        "plt.ylabel('Salary')\n",
        "plt.show()\n",
        "\n",
        "# Observation\n",
        "# ---\n",
        "# Positive linear relation"
      ],
      "execution_count": 0,
      "outputs": []
    },
    {
      "cell_type": "code",
      "metadata": {
        "id": "nVxkwpqamgJN",
        "colab_type": "code",
        "colab": {}
      },
      "source": [
        "# Data Preparation\n",
        "# ---\n",
        "# We now divide our data into \"attributes\" and \"labels\".\n",
        "# a) Attributes are the independent variables. \n",
        "# They will be stored in the X variable, specifying \"-1\" as the range for columns \n",
        "# since we want our attribute set to contain all the columns \n",
        "# except the last one which is \"scores\".\n",
        "# \n",
        "# b) Labels are the dependent variables. \n",
        "# They will be contained in the y variable, specifying 1 for the label colum \n",
        "# since the index for \"scores\" column is 1.\n",
        "# \n",
        "# * NB: Column indexes start with 0, 1 being the second, 2 being third etc.\n",
        "# - Because We are predicting the percentage score depending on hours studied, \n",
        "# our attribute set will consist of \"hours\", while the lable will be \"score\"\n",
        "# \n",
        "# * As we will get to see in another example, we can also specify the column names to \n",
        "# select our attributes and label \n",
        "# ---\n",
        "# \n",
        "X = df.iloc[:, :-1].values\n",
        "y = df.iloc[:, 1].values"
      ],
      "execution_count": 0,
      "outputs": []
    },
    {
      "cell_type": "code",
      "metadata": {
        "id": "mjXb7InGmi9I",
        "colab_type": "code",
        "colab": {}
      },
      "source": [
        "# Splitting the Dataset \n",
        "# ---\n",
        "# We split our dataset into training and test sets. 80% = training set, while 20% = test set\n",
        "# This means we will specify our parameter test_size below to have the value 0.2.\n",
        "# ---\n",
        "#\n",
        "\n",
        "# Before we preform the split, we will import the train_test_split function\n",
        "# which will help us perform this operation.\n",
        "# ---\n",
        "#\n",
        "from sklearn.model_selection import train_test_split\n",
        "\n",
        "# We then perform our split as show in the following line\n",
        "# ---\n",
        "# The test size of 0.2 indicates we’ve used 20% of the data for testing. \n",
        "# random_state ensures reproducibility. For the output of train_test_split, \n",
        "# we get X_train, X_test, y_train, and y_test values.\n",
        "# ---\n",
        "#\n",
        "X_train, X_test, y_train, y_test = train_test_split(X, y, test_size=0.2, random_state=0)"
      ],
      "execution_count": 0,
      "outputs": []
    },
    {
      "cell_type": "code",
      "metadata": {
        "id": "sH4S998QmkoH",
        "colab_type": "code",
        "colab": {}
      },
      "source": [
        "# Training the Algorithm\n",
        "# ---\n",
        "# We are now ready to create our algorithm. This process is also referred to as \n",
        "# fitting in our model / fitting the regressor to the dataset.\n",
        "# ---\n",
        "#\n",
        "\n",
        "# First, we import our linear regression function\n",
        "# ---\n",
        "#\n",
        "from sklearn.linear_model import LinearRegression\n",
        "\n",
        "# Then train the algorithm\n",
        "# ---\n",
        "#\n",
        "regressor = LinearRegression()\n",
        "regressor.fit(X_train, y_train)"
      ],
      "execution_count": 0,
      "outputs": []
    },
    {
      "cell_type": "code",
      "metadata": {
        "id": "12qJ87_Wmpac",
        "colab_type": "code",
        "colab": {}
      },
      "source": [
        "# Making Predictions\n",
        "# ---\n",
        "# After training our algorithm, we can now make some preditions\n",
        "# ---   \n",
        "# \n",
        "\n",
        "# We create the y_pred variable, which will be an array (numpy array) \n",
        "# that contains all the predicted values for the input values in the X_test series\n",
        "# ---\n",
        "#\n",
        "y_pred = regressor.predict(X_test)"
      ],
      "execution_count": 0,
      "outputs": []
    },
    {
      "cell_type": "code",
      "metadata": {
        "id": "D3A1LtZMmp6D",
        "colab_type": "code",
        "colab": {}
      },
      "source": [
        "# Next, we compare actual output values for X_test with the predicted values\n",
        "# ---\n",
        "#\n",
        "df = pd.DataFrame({'Actual': y_test, 'Predicted': y_pred})\n",
        "df\n",
        "\n",
        "# We will note from the output that though our model is not very precise, \n",
        "# the predicted percentages are sometimes close to the actual ones."
      ],
      "execution_count": 0,
      "outputs": []
    },
    {
      "cell_type": "code",
      "metadata": {
        "id": "8JhmS1H2mtt1",
        "colab_type": "code",
        "colab": {}
      },
      "source": [
        "# Finally, we evaluate our model performance\n",
        "# ---  \n",
        "from sklearn import metrics \n",
        "print('Root Mean Squared Error:', np.sqrt(metrics.mean_squared_error(y_test, y_pred)))"
      ],
      "execution_count": 0,
      "outputs": []
    },
    {
      "cell_type": "markdown",
      "metadata": {
        "colab_type": "text",
        "id": "VeNigGva1M-9"
      },
      "source": [
        "## 2. Multiple Linear Regression"
      ]
    },
    {
      "cell_type": "markdown",
      "metadata": {
        "colab_type": "text",
        "id": "vBBOl6dW1M_E"
      },
      "source": [
        "#### <font color=\"green\">Challenge 2</font>"
      ]
    },
    {
      "cell_type": "markdown",
      "metadata": {
        "id": "hh_dIYin-0S0",
        "colab_type": "text"
      },
      "source": [
        "**Problem Statement**\n",
        "\n",
        "A Chinese automobile company Geely Auto aspires to enter the US market by setting up their manufacturing unit there and producing cars locally to give competition to their US and European counterparts.\n",
        "\n",
        "They have contracted an automobile consulting company to understand the factors on which the pricing of cars depends. Specifically, they want to understand the factors affecting the pricing of cars in the American market, since those may be very different from the Chinese market.\n",
        "\n",
        "**Business Goal**\n",
        "\n",
        "We are required to model the price of cars with the available independent variables. It will be used by the management to understand how exactly the prices vary with the independent variables. They can accordingly manipulate the design of the cars, the business strategy etc. to meet certain price levels. Further, the model will be a good way for management to understand the pricing dynamics of a new market.\n",
        "\n",
        "Problem Source [Kaggle](https://www.kaggle.com/hellbuoy/car-price-prediction)"
      ]
    },
    {
      "cell_type": "code",
      "metadata": {
        "colab_type": "code",
        "id": "XyO8bGSo1M_F",
        "colab": {}
      },
      "source": [
        "# Challenge \n",
        "# ---\n",
        "# Create a model to predict the price of cars given the following dataset.\n",
        "# ---\n",
        "# Dataset url = http://bit.ly/CarPriceDataset\n",
        "# ---\n",
        "# OUR CODE GOES BELOW\n",
        "#"
      ],
      "execution_count": 0,
      "outputs": []
    },
    {
      "cell_type": "code",
      "metadata": {
        "id": "QeFaeUOuo0FR",
        "colab_type": "code",
        "colab": {}
      },
      "source": [
        "# Loading our dataset\n",
        "#\n",
        "car_df = pd.read_csv('http://bit.ly/CarPriceDataset')"
      ],
      "execution_count": 0,
      "outputs": []
    },
    {
      "cell_type": "code",
      "metadata": {
        "id": "0OlNr_cdo0uQ",
        "colab_type": "code",
        "colab": {}
      },
      "source": [
        "# Previewing the dataset\n",
        "# \n",
        "car_df.head()"
      ],
      "execution_count": 0,
      "outputs": []
    },
    {
      "cell_type": "code",
      "metadata": {
        "id": "UuztzzvEo1wz",
        "colab_type": "code",
        "colab": {}
      },
      "source": [
        "# Previewing the statistical summary of our dataset\n",
        "# \n",
        "car_df.describe()"
      ],
      "execution_count": 0,
      "outputs": []
    },
    {
      "cell_type": "code",
      "metadata": {
        "id": "-Vj1_d0BqCZu",
        "colab_type": "code",
        "colab": {}
      },
      "source": [
        "# We will drop the Car ID column, we don't need it\n",
        "# ---\n",
        "#  \n",
        "#\n",
        "car_df.drop([\"car_ID\"], axis = 1, inplace = True) "
      ],
      "execution_count": 0,
      "outputs": []
    },
    {
      "cell_type": "code",
      "metadata": {
        "id": "N-4pFtNhqOrf",
        "colab_type": "code",
        "colab": {}
      },
      "source": [
        "# Previewing our dataset\n",
        "# ---\n",
        "# \n",
        "car_df.head()"
      ],
      "execution_count": 0,
      "outputs": []
    },
    {
      "cell_type": "code",
      "metadata": {
        "id": "NDAU-u1-o1jQ",
        "colab_type": "code",
        "colab": {}
      },
      "source": [
        "## Performing Exploratory Analysis\n",
        "# ---\n",
        "# This time we will plot a correlation matrix, to determine the relationships between the different variables.\n",
        "# This matrix will give us a sense of how well the variables are correlated. By this we mean, whether an\n",
        "# increase or decrease in variable affects the other variable. \n",
        "# To break this down further, the matrix will provide us with values between -1 and 1. If the value between\n",
        "# two variables is closer to 1 i.e. > 0.5, then it means the variables are strongly correlated, have a positive linear \n",
        "# relationship and it also means that as one value increases the other increases.\n",
        "# On the other hand, of the value is less than -0.5, it would mean that the variables are strongly correlated but \n",
        "# have a negative linear relationship. \n",
        "# If the value is 0 or < -0.5 or < 0.5 it means that the variables don't have any relationship with each other.\n",
        "# ---\n",
        "# Understanding whether our label i.e. Weight has a high correlation with other variables, helps us to deal \n",
        "# with the concept of Multicollinearity which would weaken the statistical power of your regression model. \n",
        "# For now, Multicollinearity is a topic beyond the scope of our session. However, it is usually important to \n",
        "# note that having highly correlated variables within our dataset weakens our model.\n",
        "# ---\n",
        "#\n",
        "corrMatrix = car_df.corr()\n",
        "corrMatrix"
      ],
      "execution_count": 0,
      "outputs": []
    },
    {
      "cell_type": "code",
      "metadata": {
        "id": "MxRQnNG-o1g0",
        "colab_type": "code",
        "colab": {}
      },
      "source": [
        "# We can plot a visualisation of the matrix for better clarity\n",
        "# --- \n",
        "# \n",
        "import seaborn as sns\n",
        "\n",
        "plt.figure(figsize=(10, 10)) \n",
        "sns.heatmap(corrMatrix, annot = True) "
      ],
      "execution_count": 0,
      "outputs": []
    },
    {
      "cell_type": "code",
      "metadata": {
        "id": "gCMgJuqG85Se",
        "colab_type": "code",
        "colab": {}
      },
      "source": [
        "car_df.head()"
      ],
      "execution_count": 0,
      "outputs": []
    },
    {
      "cell_type": "code",
      "metadata": {
        "id": "N5pJL2iOo1bG",
        "colab_type": "code",
        "colab": {}
      },
      "source": [
        " # Data Preparation\n",
        "# ---\n",
        "# We now divide our data into \"attributes\" and \"labels\".\n",
        "# a) Attributes are the independent variables. \n",
        "# They will be stored in the X variable, specifying \"-1\" as the range for columns \n",
        "# since we want our attribute set to contain all the columns \n",
        "# except the last one which is \"scores\".\n",
        "# \n",
        "# b) Labels are the dependent variables. \n",
        "# They will be contained in the y variable, specifying 1 for the label colum \n",
        "# since the index for \"scores\" column is 1.\n",
        "# \n",
        "# * NB: Column indexes start with 0, 1 being the second, 2 being third etc.\n",
        "# - Because We are predicting the percentage score depending on hours studied, \n",
        "# our attribute set will consist of \"hours\", while the lable will be \"score\"\n",
        "# \n",
        "# * As we will get to see in another example, we can also specify the column names to \n",
        "# select our attributes and label \n",
        "# ---\n",
        "# \n",
        "X = car_df.iloc[:, :-1].values\n",
        "y = car_df.iloc[:, -1].values"
      ],
      "execution_count": 0,
      "outputs": []
    },
    {
      "cell_type": "code",
      "metadata": {
        "id": "G0hu7mmlo1YO",
        "colab_type": "code",
        "colab": {}
      },
      "source": [
        "# We then Split our datset\n",
        "# ---\n",
        "# We split our dataset into training and test sets. 80% = training set, while 20% = test set\n",
        "# ---\n",
        "#\n",
        "\n",
        "# Firstly, importing our train_test_split function\n",
        "# ---\n",
        "#\n",
        "from sklearn.model_selection import train_test_split\n",
        "\n",
        "# Performing our split\n",
        "# ---\n",
        "# \n",
        "X_train, X_test, y_train, y_test = train_test_split(X, y, test_size=0.2, random_state=0)"
      ],
      "execution_count": 0,
      "outputs": []
    },
    {
      "cell_type": "code",
      "metadata": {
        "id": "mzjtvd0dpF5C",
        "colab_type": "code",
        "colab": {}
      },
      "source": [
        "# Training the Algorithm\n",
        "# ---\n",
        "# \n",
        "\n",
        "# Firstly, importing our linear regression function\n",
        "# ---\n",
        "#\n",
        "from sklearn.linear_model import LinearRegression\n",
        "\n",
        "# Training the algorithm\n",
        "# ---\n",
        "# \n",
        "regressor = LinearRegression()\n",
        "regressor.fit(X_train, y_train)"
      ],
      "execution_count": 0,
      "outputs": []
    },
    {
      "cell_type": "code",
      "metadata": {
        "id": "4PBF2nmnpF2Z",
        "colab_type": "code",
        "colab": {}
      },
      "source": [
        "# Making Predictions\n",
        "# ---\n",
        "# After training our algorithm, we can now make some preditions\n",
        "# ---\n",
        "# We create the y_pred variable, which will contain \n",
        "# all the predicted values for the input values in the X_test series\n",
        "# ---\n",
        "#\n",
        "y_pred = regressor.predict(X_test)"
      ],
      "execution_count": 0,
      "outputs": []
    },
    {
      "cell_type": "code",
      "metadata": {
        "id": "FWPg6VHHpFyh",
        "colab_type": "code",
        "colab": {}
      },
      "source": [
        "# Next, we compare actual output values for X_test with the predicted values\n",
        "# This should also give us a sense of how our model performed during prediction\n",
        "# ---\n",
        "#\n",
        "df = pd.DataFrame({'Actual': y_test, 'Predicted': y_pred})\n",
        "df.sample(10)"
      ],
      "execution_count": 0,
      "outputs": []
    },
    {
      "cell_type": "code",
      "metadata": {
        "id": "YaqYnYwSpFwg",
        "colab_type": "code",
        "colab": {}
      },
      "source": [
        "# Finally, we evaluate our model performance\n",
        "# --- \n",
        "# The final step is to evaluate the performance of algorithm \n",
        "# We use the following three evaluation metrics are commonly used: \n",
        "# Root Mean Squared Error (RMSE) is the square root of the mean of the squared errors.\n",
        "# ---  \n",
        "#\n",
        "from sklearn import metrics \n",
        "print('Root Mean Squared Error:', np.sqrt(metrics.mean_squared_error(y_test, y_pred)))\n",
        "\n",
        "# Observation\n",
        "# ---\n",
        "# We can see that the value of root mean squared error is 3751.79, \n",
        "# which is greater than 10% of the mean value of price of 13,256. \n",
        "# This means that our algorithm was not very accurate but can still make reasonably good predictions.\n",
        "# There are many factors that may have contributed to this inaccuracy, a few of which are :\n",
        "# 1. Need more data: Only one year worth of data isn't that much, \n",
        "#    whereas having multiple years worth could have helped us improve the accuracy quite a bit.\n",
        "# 2. Bad assumptions: We made the assumption that this data has a linear relationship, \n",
        "#    but that might not be the case. Visualizing the data may help you determine that. \n",
        "# 3. Poor features: The features we used may not have had a high enough correlation \n",
        "#    to the values we were trying to predict."
      ],
      "execution_count": 0,
      "outputs": []
    },
    {
      "cell_type": "markdown",
      "metadata": {
        "colab_type": "text",
        "id": "dZnt55W161xq"
      },
      "source": [
        "## 3. K-Nearest Neighbor (KNN) Regression"
      ]
    },
    {
      "cell_type": "markdown",
      "metadata": {
        "colab_type": "text",
        "id": "VBR8j6zJ61xz"
      },
      "source": [
        "#### <font color=\"green\">Challenge 3</font>"
      ]
    },
    {
      "cell_type": "markdown",
      "metadata": {
        "colab_type": "text",
        "id": "R2B3dOoj61x0"
      },
      "source": [
        "##### <font color=\"green\">Challenge</font>"
      ]
    },
    {
      "cell_type": "code",
      "metadata": {
        "colab_type": "code",
        "id": "Q4ura3JP61x1",
        "colab": {}
      },
      "source": [
        "# Challenge \n",
        "# ---\n",
        "# Create a regression model given the following dataset.\n",
        "# ---\n",
        "# Dataset url = http://bit.ly/RealEstateDataset2\n",
        "# ---\n",
        "# OUR CODE GOES BELOW\n",
        "#"
      ],
      "execution_count": 0,
      "outputs": []
    },
    {
      "cell_type": "code",
      "metadata": {
        "id": "GmmJAXxW_aeY",
        "colab_type": "code",
        "colab": {}
      },
      "source": [
        "# Reading our Dataset\n",
        "# ---\n",
        "# \n",
        "df = pd.read_csv('http://bit.ly/RealEstateDataset2')\n",
        "df.head()"
      ],
      "execution_count": 0,
      "outputs": []
    },
    {
      "cell_type": "code",
      "metadata": {
        "id": "bpIha3cT_aFq",
        "colab_type": "code",
        "colab": {}
      },
      "source": [
        "# Describing our dataset\n",
        "# ---\n",
        "# \n",
        "df.describe()"
      ],
      "execution_count": 0,
      "outputs": []
    },
    {
      "cell_type": "code",
      "metadata": {
        "id": "XxKUibrNBtQc",
        "colab_type": "code",
        "colab": {}
      },
      "source": [
        "# We will drop the No column so that we only have numerical dataset left\n",
        "# ---\n",
        "#  \n",
        "df.drop([\"No\"], axis = 1, inplace = True)  "
      ],
      "execution_count": 0,
      "outputs": []
    },
    {
      "cell_type": "code",
      "metadata": {
        "id": "FqsxH8_LDHWV",
        "colab_type": "code",
        "colab": {}
      },
      "source": [
        "# Dropping the X1 Transaction date\n",
        "# ---\n",
        "# \n",
        "df.drop([\"X1 transaction date\"], axis = 1, inplace = True) "
      ],
      "execution_count": 0,
      "outputs": []
    },
    {
      "cell_type": "code",
      "metadata": {
        "id": "Kg_BdUfsCC4_",
        "colab_type": "code",
        "colab": {}
      },
      "source": [
        "df.head()"
      ],
      "execution_count": 0,
      "outputs": []
    },
    {
      "cell_type": "code",
      "metadata": {
        "id": "iSoxV8KwAWwI",
        "colab_type": "code",
        "colab": {}
      },
      "source": [
        "## Performing Exploratory Analysis\n",
        "# ---\n",
        "# This time we will plot a correlation matrix, to determine the relationships between the different variables.\n",
        "# This matrix will give us a sense of how well the variables are correlated. By this we mean, whether an\n",
        "# increase or decrease in variable affects the other variable. \n",
        "# To break this down further, the matrix will provide us with values between -1 and 1. If the value between\n",
        "# two variables is closer to 1 i.e. > 0.5, then it means the variables are strongly correlated, have a positive linear \n",
        "# relationship and it also means that as one value increases the other increases.\n",
        "# On the other hand, of the value is less than -0.5, it would mean that the variables are strongly correlated but \n",
        "# have a negative linear relationship. \n",
        "# If the value is 0 or < -0.5 or < 0.5 it means that the variables don't have any relationship with each other.\n",
        "# ---\n",
        "# Understanding whether our label i.e. Weight has a high correlation with other variables, helps us to deal \n",
        "# with the concept of Multicollinearity which would weaken the statistical power of your regression model. \n",
        "# For now, Multicollinearity is a topic beyond the scope of our session. However, it is usually important to \n",
        "# note that having highly correlated variables within our dataset weakens our model.\n",
        "# ---\n",
        "#\n",
        "corrMatrix = df.corr()\n",
        "corrMatrix"
      ],
      "execution_count": 0,
      "outputs": []
    },
    {
      "cell_type": "code",
      "metadata": {
        "id": "3taKevDjAb5M",
        "colab_type": "code",
        "colab": {}
      },
      "source": [
        "# We can plot a visualisation of the matrix for better clarity\n",
        "# --- \n",
        "# \n",
        "import seaborn as sns\n",
        "\n",
        "plt.figure(figsize=(10, 10)) \n",
        "sns.heatmap(corrMatrix, annot = True) "
      ],
      "execution_count": 0,
      "outputs": []
    },
    {
      "cell_type": "code",
      "metadata": {
        "id": "0EfP9UVJCjd-",
        "colab_type": "code",
        "colab": {}
      },
      "source": [
        " # Data Preparation\n",
        "# ---\n",
        "# We now divide our data into \"attributes\" and \"labels\".\n",
        "# a) Attributes are the independent variables. \n",
        "# They will be stored in the X variable, specifying \"-1\" as the range for columns \n",
        "# since we want our attribute set to contain all the columns \n",
        "# except the last one which is \"scores\".\n",
        "# \n",
        "# b) Labels are the dependent variables. \n",
        "# They will be contained in the y variable, specifying 1 for the label colum \n",
        "# since the index for \"scores\" column is 1.\n",
        "# \n",
        "# * NB: Column indexes start with 0, 1 being the second, 2 being third etc.\n",
        "# - Because We are predicting the percentage score depending on hours studied, \n",
        "# our attribute set will consist of \"hours\", while the lable will be \"score\"\n",
        "# \n",
        "# * As we will get to see in another example, we can also specify the column names to \n",
        "# select our attributes and label \n",
        "# ---\n",
        "# \n",
        "X = df.iloc[:, :-1].values\n",
        "y = df.iloc[:, -1].values"
      ],
      "execution_count": 0,
      "outputs": []
    },
    {
      "cell_type": "code",
      "metadata": {
        "id": "B-oIzgK4_aD5",
        "colab_type": "code",
        "colab": {}
      },
      "source": [
        "# Splitting our dataset\n",
        "# ---\n",
        "# \n",
        "# Firstly, importing our train_test_split function\n",
        "# ---\n",
        "#\n",
        "from sklearn.model_selection import train_test_split\n",
        " \n",
        "X_train, X_test, y_train, y_test = train_test_split(X, y, test_size=.3, random_state=0)"
      ],
      "execution_count": 0,
      "outputs": []
    },
    {
      "cell_type": "code",
      "metadata": {
        "id": "PpJTy03-_aA-",
        "colab_type": "code",
        "colab": {}
      },
      "source": [
        "# Performing feature scaling\n",
        "# ---\n",
        "#\n",
        "from sklearn.preprocessing import StandardScaler\n",
        "sc_X = StandardScaler()\n",
        "sc_y = StandardScaler()\n",
        "\n",
        "X_train = sc_X.fit_transform(X_train)\n",
        "X_test = sc_y.fit_transform(X_test)"
      ],
      "execution_count": 0,
      "outputs": []
    },
    {
      "cell_type": "code",
      "metadata": {
        "id": "7PNCAS40_Z5q",
        "colab_type": "code",
        "colab": {}
      },
      "source": [
        "# Applying our algorithm\n",
        "# ---\n",
        "# \n",
        "# Firstly, importing our KNN regression function\n",
        "# ---\n",
        "# \n",
        "from sklearn.neighbors import KNeighborsRegressor\n",
        "  \n",
        "# We initialize our algorithm with one parameter, i.e. n_neigbours. \n",
        "# This is basically the value for the K. \n",
        "# There is no ideal value for K and it is selected after testing and evaluation, \n",
        "# however to start out, we can use 5  as it is the most commonly used value for KNN algorithm.\n",
        "# ---\n",
        "#  \n",
        "regressor = KNeighborsRegressor(5)\n",
        "regressor.fit(X_train, y_train)"
      ],
      "execution_count": 0,
      "outputs": []
    },
    {
      "cell_type": "code",
      "metadata": {
        "id": "zqQHLItB_Z1f",
        "colab_type": "code",
        "colab": {}
      },
      "source": [
        "# Making predictions using our model\n",
        "# ---\n",
        "#  \n",
        "y_pred = regressor.predict(X_test)"
      ],
      "execution_count": 0,
      "outputs": []
    },
    {
      "cell_type": "code",
      "metadata": {
        "id": "1YYV9X6m_Zx2",
        "colab_type": "code",
        "colab": {}
      },
      "source": [
        "# Next, we compare actual output values for X_test with the predicted values\n",
        "# ---\n",
        "#\n",
        "df = pd.DataFrame({'Actual': y_test, 'Predicted': y_pred})\n",
        "df.sample(10)"
      ],
      "execution_count": 0,
      "outputs": []
    },
    {
      "cell_type": "code",
      "metadata": {
        "id": "5DSa-7f1_Zm2",
        "colab_type": "code",
        "colab": {}
      },
      "source": [
        "# Finally, we evaluate the algorithm\n",
        "# --- \n",
        "# The final step is to evaluate the performance of algorithm.\n",
        "# Root Mean Squared Error (RMSE) is the square root of the mean of the squared errors.\n",
        "# ---  \n",
        "#  \n",
        "print('Root Mean Squared Error:', np.sqrt(metrics.mean_squared_error(y_test, y_pred)))"
      ],
      "execution_count": 0,
      "outputs": []
    },
    {
      "cell_type": "markdown",
      "metadata": {
        "colab_type": "text",
        "id": "IgEBQBE07JH-"
      },
      "source": [
        "## 4. Decision Trees Regression"
      ]
    },
    {
      "cell_type": "markdown",
      "metadata": {
        "colab_type": "text",
        "id": "dgu9c21z7JIE"
      },
      "source": [
        "#### <font color=\"green\">Challenge 4</font>"
      ]
    },
    {
      "cell_type": "markdown",
      "metadata": {
        "colab_type": "text",
        "id": "gA_MBQoS7JIF"
      },
      "source": [
        "##### <font color=\"green\">Challenge</font>"
      ]
    },
    {
      "cell_type": "code",
      "metadata": {
        "colab_type": "code",
        "id": "n-IRWs3N7JIG",
        "outputId": "2d96dce6-5a07-43d2-fa96-ed268f969bb8",
        "colab": {
          "base_uri": "https://localhost:8080/",
          "height": 238
        }
      },
      "source": [
        "# Challenge \n",
        "# ---\n",
        "# Using decision trees, create a regression model using the following dataset.\n",
        "# ---\n",
        "# Dataset url = http://bit.ly/RealEstateDataset2\n",
        "# ---\n",
        "# OUR CODE GOES BELOW\n",
        "#\n",
        "df = pd.read_csv('http://bit.ly/RealEstateDataset2')\n",
        "df.head()"
      ],
      "execution_count": 0,
      "outputs": [
        {
          "output_type": "execute_result",
          "data": {
            "text/html": [
              "<div>\n",
              "<style scoped>\n",
              "    .dataframe tbody tr th:only-of-type {\n",
              "        vertical-align: middle;\n",
              "    }\n",
              "\n",
              "    .dataframe tbody tr th {\n",
              "        vertical-align: top;\n",
              "    }\n",
              "\n",
              "    .dataframe thead th {\n",
              "        text-align: right;\n",
              "    }\n",
              "</style>\n",
              "<table border=\"1\" class=\"dataframe\">\n",
              "  <thead>\n",
              "    <tr style=\"text-align: right;\">\n",
              "      <th></th>\n",
              "      <th>No</th>\n",
              "      <th>X1 transaction date</th>\n",
              "      <th>X2 house age</th>\n",
              "      <th>X3 distance to the nearest MRT station</th>\n",
              "      <th>X4 number of convenience stores</th>\n",
              "      <th>X5 latitude</th>\n",
              "      <th>X6 longitude</th>\n",
              "      <th>Y house price of unit area</th>\n",
              "    </tr>\n",
              "  </thead>\n",
              "  <tbody>\n",
              "    <tr>\n",
              "      <th>0</th>\n",
              "      <td>1</td>\n",
              "      <td>2012.917</td>\n",
              "      <td>32.0</td>\n",
              "      <td>84.87882</td>\n",
              "      <td>10</td>\n",
              "      <td>24.98298</td>\n",
              "      <td>121.54024</td>\n",
              "      <td>37.9</td>\n",
              "    </tr>\n",
              "    <tr>\n",
              "      <th>1</th>\n",
              "      <td>2</td>\n",
              "      <td>2012.917</td>\n",
              "      <td>19.5</td>\n",
              "      <td>306.59470</td>\n",
              "      <td>9</td>\n",
              "      <td>24.98034</td>\n",
              "      <td>121.53951</td>\n",
              "      <td>42.2</td>\n",
              "    </tr>\n",
              "    <tr>\n",
              "      <th>2</th>\n",
              "      <td>3</td>\n",
              "      <td>2013.583</td>\n",
              "      <td>13.3</td>\n",
              "      <td>561.98450</td>\n",
              "      <td>5</td>\n",
              "      <td>24.98746</td>\n",
              "      <td>121.54391</td>\n",
              "      <td>47.3</td>\n",
              "    </tr>\n",
              "    <tr>\n",
              "      <th>3</th>\n",
              "      <td>4</td>\n",
              "      <td>2013.500</td>\n",
              "      <td>13.3</td>\n",
              "      <td>561.98450</td>\n",
              "      <td>5</td>\n",
              "      <td>24.98746</td>\n",
              "      <td>121.54391</td>\n",
              "      <td>54.8</td>\n",
              "    </tr>\n",
              "    <tr>\n",
              "      <th>4</th>\n",
              "      <td>5</td>\n",
              "      <td>2012.833</td>\n",
              "      <td>5.0</td>\n",
              "      <td>390.56840</td>\n",
              "      <td>5</td>\n",
              "      <td>24.97937</td>\n",
              "      <td>121.54245</td>\n",
              "      <td>43.1</td>\n",
              "    </tr>\n",
              "  </tbody>\n",
              "</table>\n",
              "</div>"
            ],
            "text/plain": [
              "   No  X1 transaction date  ...  X6 longitude  Y house price of unit area\n",
              "0   1             2012.917  ...     121.54024                        37.9\n",
              "1   2             2012.917  ...     121.53951                        42.2\n",
              "2   3             2013.583  ...     121.54391                        47.3\n",
              "3   4             2013.500  ...     121.54391                        54.8\n",
              "4   5             2012.833  ...     121.54245                        43.1\n",
              "\n",
              "[5 rows x 8 columns]"
            ]
          },
          "metadata": {
            "tags": []
          },
          "execution_count": 158
        }
      ]
    },
    {
      "cell_type": "code",
      "metadata": {
        "id": "xcnpzSk1ASoY",
        "colab_type": "code",
        "outputId": "02033036-015b-4073-8f5c-80db2436f85d",
        "colab": {
          "base_uri": "https://localhost:8080/",
          "height": 331
        }
      },
      "source": [
        "# Summary Statistics\n",
        "# ---\n",
        "# \n",
        "df.describe()"
      ],
      "execution_count": 0,
      "outputs": [
        {
          "output_type": "execute_result",
          "data": {
            "text/html": [
              "<div>\n",
              "<style scoped>\n",
              "    .dataframe tbody tr th:only-of-type {\n",
              "        vertical-align: middle;\n",
              "    }\n",
              "\n",
              "    .dataframe tbody tr th {\n",
              "        vertical-align: top;\n",
              "    }\n",
              "\n",
              "    .dataframe thead th {\n",
              "        text-align: right;\n",
              "    }\n",
              "</style>\n",
              "<table border=\"1\" class=\"dataframe\">\n",
              "  <thead>\n",
              "    <tr style=\"text-align: right;\">\n",
              "      <th></th>\n",
              "      <th>No</th>\n",
              "      <th>X1 transaction date</th>\n",
              "      <th>X2 house age</th>\n",
              "      <th>X3 distance to the nearest MRT station</th>\n",
              "      <th>X4 number of convenience stores</th>\n",
              "      <th>X5 latitude</th>\n",
              "      <th>X6 longitude</th>\n",
              "      <th>Y house price of unit area</th>\n",
              "    </tr>\n",
              "  </thead>\n",
              "  <tbody>\n",
              "    <tr>\n",
              "      <th>count</th>\n",
              "      <td>414.000000</td>\n",
              "      <td>414.000000</td>\n",
              "      <td>414.000000</td>\n",
              "      <td>414.000000</td>\n",
              "      <td>414.000000</td>\n",
              "      <td>414.000000</td>\n",
              "      <td>414.000000</td>\n",
              "      <td>414.000000</td>\n",
              "    </tr>\n",
              "    <tr>\n",
              "      <th>mean</th>\n",
              "      <td>207.500000</td>\n",
              "      <td>2013.148971</td>\n",
              "      <td>17.712560</td>\n",
              "      <td>1083.885689</td>\n",
              "      <td>4.094203</td>\n",
              "      <td>24.969030</td>\n",
              "      <td>121.533361</td>\n",
              "      <td>37.980193</td>\n",
              "    </tr>\n",
              "    <tr>\n",
              "      <th>std</th>\n",
              "      <td>119.655756</td>\n",
              "      <td>0.281967</td>\n",
              "      <td>11.392485</td>\n",
              "      <td>1262.109595</td>\n",
              "      <td>2.945562</td>\n",
              "      <td>0.012410</td>\n",
              "      <td>0.015347</td>\n",
              "      <td>13.606488</td>\n",
              "    </tr>\n",
              "    <tr>\n",
              "      <th>min</th>\n",
              "      <td>1.000000</td>\n",
              "      <td>2012.667000</td>\n",
              "      <td>0.000000</td>\n",
              "      <td>23.382840</td>\n",
              "      <td>0.000000</td>\n",
              "      <td>24.932070</td>\n",
              "      <td>121.473530</td>\n",
              "      <td>7.600000</td>\n",
              "    </tr>\n",
              "    <tr>\n",
              "      <th>25%</th>\n",
              "      <td>104.250000</td>\n",
              "      <td>2012.917000</td>\n",
              "      <td>9.025000</td>\n",
              "      <td>289.324800</td>\n",
              "      <td>1.000000</td>\n",
              "      <td>24.963000</td>\n",
              "      <td>121.528085</td>\n",
              "      <td>27.700000</td>\n",
              "    </tr>\n",
              "    <tr>\n",
              "      <th>50%</th>\n",
              "      <td>207.500000</td>\n",
              "      <td>2013.167000</td>\n",
              "      <td>16.100000</td>\n",
              "      <td>492.231300</td>\n",
              "      <td>4.000000</td>\n",
              "      <td>24.971100</td>\n",
              "      <td>121.538630</td>\n",
              "      <td>38.450000</td>\n",
              "    </tr>\n",
              "    <tr>\n",
              "      <th>75%</th>\n",
              "      <td>310.750000</td>\n",
              "      <td>2013.417000</td>\n",
              "      <td>28.150000</td>\n",
              "      <td>1454.279000</td>\n",
              "      <td>6.000000</td>\n",
              "      <td>24.977455</td>\n",
              "      <td>121.543305</td>\n",
              "      <td>46.600000</td>\n",
              "    </tr>\n",
              "    <tr>\n",
              "      <th>max</th>\n",
              "      <td>414.000000</td>\n",
              "      <td>2013.583000</td>\n",
              "      <td>43.800000</td>\n",
              "      <td>6488.021000</td>\n",
              "      <td>10.000000</td>\n",
              "      <td>25.014590</td>\n",
              "      <td>121.566270</td>\n",
              "      <td>117.500000</td>\n",
              "    </tr>\n",
              "  </tbody>\n",
              "</table>\n",
              "</div>"
            ],
            "text/plain": [
              "               No  ...  Y house price of unit area\n",
              "count  414.000000  ...                  414.000000\n",
              "mean   207.500000  ...                   37.980193\n",
              "std    119.655756  ...                   13.606488\n",
              "min      1.000000  ...                    7.600000\n",
              "25%    104.250000  ...                   27.700000\n",
              "50%    207.500000  ...                   38.450000\n",
              "75%    310.750000  ...                   46.600000\n",
              "max    414.000000  ...                  117.500000\n",
              "\n",
              "[8 rows x 8 columns]"
            ]
          },
          "metadata": {
            "tags": []
          },
          "execution_count": 159
        }
      ]
    },
    {
      "cell_type": "code",
      "metadata": {
        "id": "03RuJDHIASgb",
        "colab_type": "code",
        "colab": {}
      },
      "source": [
        "# We will drop the No and X1 transaction date columns\n",
        "# ---\n",
        "#  \n",
        "df.drop([\"No\", \"X1 transaction date\"], axis = 1, inplace = True)  "
      ],
      "execution_count": 0,
      "outputs": []
    },
    {
      "cell_type": "code",
      "metadata": {
        "id": "B3rKPXe6ASXq",
        "colab_type": "code",
        "outputId": "79c0ea42-0e58-4468-846b-923766a91c44",
        "colab": {
          "base_uri": "https://localhost:8080/",
          "height": 303
        }
      },
      "source": [
        "## Performing Exploratory Analysis\n",
        "# ---\n",
        "# This time we will plot a correlation matrix, to determine the relationships between the different variables.\n",
        "# This matrix will give us a sense of how well the variables are correlated. By this we mean, whether an\n",
        "# increase or decrease in variable affects the other variable. \n",
        "# To break this down further, the matrix will provide us with values between -1 and 1. If the value between\n",
        "# two variables is closer to 1 i.e. > 0.5, then it means the variables are strongly correlated, have a positive linear \n",
        "# relationship and it also means that as one value increases the other increases.\n",
        "# On the other hand, of the value is less than -0.5, it would mean that the variables are strongly correlated but \n",
        "# have a negative linear relationship. \n",
        "# If the value is 0 or < -0.5 or < 0.5 it means that the variables don't have any relationship with each other.\n",
        "# ---\n",
        "# Understanding whether our label i.e. Weight has a high correlation with other variables, helps us to deal \n",
        "# with the concept of Multicollinearity which would weaken the statistical power of your regression model. \n",
        "# For now, Multicollinearity is a topic beyond the scope of our session. However, it is usually important to \n",
        "# note that having highly correlated variables within our dataset weakens our model.\n",
        "# ---\n",
        "#\n",
        "corrMatrix = df.corr()\n",
        "corrMatrix"
      ],
      "execution_count": 0,
      "outputs": [
        {
          "output_type": "execute_result",
          "data": {
            "text/html": [
              "<div>\n",
              "<style scoped>\n",
              "    .dataframe tbody tr th:only-of-type {\n",
              "        vertical-align: middle;\n",
              "    }\n",
              "\n",
              "    .dataframe tbody tr th {\n",
              "        vertical-align: top;\n",
              "    }\n",
              "\n",
              "    .dataframe thead th {\n",
              "        text-align: right;\n",
              "    }\n",
              "</style>\n",
              "<table border=\"1\" class=\"dataframe\">\n",
              "  <thead>\n",
              "    <tr style=\"text-align: right;\">\n",
              "      <th></th>\n",
              "      <th>X2 house age</th>\n",
              "      <th>X3 distance to the nearest MRT station</th>\n",
              "      <th>X4 number of convenience stores</th>\n",
              "      <th>X5 latitude</th>\n",
              "      <th>X6 longitude</th>\n",
              "      <th>Y house price of unit area</th>\n",
              "    </tr>\n",
              "  </thead>\n",
              "  <tbody>\n",
              "    <tr>\n",
              "      <th>X2 house age</th>\n",
              "      <td>1.000000</td>\n",
              "      <td>0.025622</td>\n",
              "      <td>0.049593</td>\n",
              "      <td>0.054420</td>\n",
              "      <td>-0.048520</td>\n",
              "      <td>-0.210567</td>\n",
              "    </tr>\n",
              "    <tr>\n",
              "      <th>X3 distance to the nearest MRT station</th>\n",
              "      <td>0.025622</td>\n",
              "      <td>1.000000</td>\n",
              "      <td>-0.602519</td>\n",
              "      <td>-0.591067</td>\n",
              "      <td>-0.806317</td>\n",
              "      <td>-0.673613</td>\n",
              "    </tr>\n",
              "    <tr>\n",
              "      <th>X4 number of convenience stores</th>\n",
              "      <td>0.049593</td>\n",
              "      <td>-0.602519</td>\n",
              "      <td>1.000000</td>\n",
              "      <td>0.444143</td>\n",
              "      <td>0.449099</td>\n",
              "      <td>0.571005</td>\n",
              "    </tr>\n",
              "    <tr>\n",
              "      <th>X5 latitude</th>\n",
              "      <td>0.054420</td>\n",
              "      <td>-0.591067</td>\n",
              "      <td>0.444143</td>\n",
              "      <td>1.000000</td>\n",
              "      <td>0.412924</td>\n",
              "      <td>0.546307</td>\n",
              "    </tr>\n",
              "    <tr>\n",
              "      <th>X6 longitude</th>\n",
              "      <td>-0.048520</td>\n",
              "      <td>-0.806317</td>\n",
              "      <td>0.449099</td>\n",
              "      <td>0.412924</td>\n",
              "      <td>1.000000</td>\n",
              "      <td>0.523287</td>\n",
              "    </tr>\n",
              "    <tr>\n",
              "      <th>Y house price of unit area</th>\n",
              "      <td>-0.210567</td>\n",
              "      <td>-0.673613</td>\n",
              "      <td>0.571005</td>\n",
              "      <td>0.546307</td>\n",
              "      <td>0.523287</td>\n",
              "      <td>1.000000</td>\n",
              "    </tr>\n",
              "  </tbody>\n",
              "</table>\n",
              "</div>"
            ],
            "text/plain": [
              "                                        X2 house age  ...  Y house price of unit area\n",
              "X2 house age                                1.000000  ...                   -0.210567\n",
              "X3 distance to the nearest MRT station      0.025622  ...                   -0.673613\n",
              "X4 number of convenience stores             0.049593  ...                    0.571005\n",
              "X5 latitude                                 0.054420  ...                    0.546307\n",
              "X6 longitude                               -0.048520  ...                    0.523287\n",
              "Y house price of unit area                 -0.210567  ...                    1.000000\n",
              "\n",
              "[6 rows x 6 columns]"
            ]
          },
          "metadata": {
            "tags": []
          },
          "execution_count": 161
        }
      ]
    },
    {
      "cell_type": "code",
      "metadata": {
        "id": "CJmagOyJFyJZ",
        "colab_type": "code",
        "outputId": "7f1f84d8-02b4-4699-8b5a-b90dd86fbcff",
        "colab": {
          "base_uri": "https://localhost:8080/",
          "height": 796
        }
      },
      "source": [
        "# We can plot a visualisation of the matrix for better clarity\n",
        "# --- \n",
        "# \n",
        "import seaborn as sns\n",
        "\n",
        "plt.figure(figsize=(10, 10)) \n",
        "sns.heatmap(corrMatrix, annot = True) "
      ],
      "execution_count": 0,
      "outputs": [
        {
          "output_type": "execute_result",
          "data": {
            "text/plain": [
              "<matplotlib.axes._subplots.AxesSubplot at 0x7fd1fae22a58>"
            ]
          },
          "metadata": {
            "tags": []
          },
          "execution_count": 162
        },
        {
          "output_type": "display_data",
          "data": {
            "image/png": "[encoded data removed]",
            "text/plain": [
              "<Figure size 720x720 with 2 Axes>"
            ]
          },
          "metadata": {
            "tags": []
          }
        }
      ]
    },
    {
      "cell_type": "code",
      "metadata": {
        "id": "HPU4v0o6J9j7",
        "colab_type": "code",
        "colab": {}
      },
      "source": [
        " # Data Preparation\n",
        "# ---\n",
        "# We now divide our data into \"attributes\" and \"labels\".\n",
        "# a) Attributes are the independent variables. \n",
        "# They will be stored in the X variable, specifying \"-1\" as the range for columns \n",
        "# since we want our attribute set to contain all the columns \n",
        "# except the last one which is \"scores\".\n",
        "# \n",
        "# b) Labels are the dependent variables. \n",
        "# They will be contained in the y variable, specifying 1 for the label colum \n",
        "# since the index for \"scores\" column is 1.\n",
        "# \n",
        "# * NB: Column indexes start with 0, 1 being the second, 2 being third etc.\n",
        "# - Because We are predicting the percentage score depending on hours studied, \n",
        "# our attribute set will consist of \"hours\", while the lable will be \"score\"\n",
        "# \n",
        "# * As we will get to see in another example, we can also specify the column names to \n",
        "# select our attributes and label \n",
        "# ---\n",
        "# \n",
        "X = df.iloc[:, :-1].values\n",
        "y = df.iloc[:, -1].values"
      ],
      "execution_count": 0,
      "outputs": []
    },
    {
      "cell_type": "code",
      "metadata": {
        "id": "C-IaoEtKKDb_",
        "colab_type": "code",
        "colab": {}
      },
      "source": [
        "# Splitting our dataset\n",
        "# ---\n",
        "# \n",
        "# Firstly, importing our train_test_split function\n",
        "# ---\n",
        "#\n",
        "from sklearn.model_selection import train_test_split\n",
        " \n",
        "X_train, X_test, y_train, y_test = train_test_split(X, y, test_size=.3, random_state=0)"
      ],
      "execution_count": 0,
      "outputs": []
    },
    {
      "cell_type": "code",
      "metadata": {
        "id": "xbosa-1TASQM",
        "colab_type": "code",
        "outputId": "efe9673d-4a00-493e-99e5-70a5a229caba",
        "colab": {
          "base_uri": "https://localhost:8080/",
          "height": 119
        }
      },
      "source": [
        "# Lets now train our algorithm\n",
        "# ---\n",
        "#  \n",
        "\n",
        "from sklearn.tree import DecisionTreeRegressor \n",
        "\n",
        "# Create the Decision Tree regressor object here.\n",
        "# We only use the parameter random_state parameter with value 0\n",
        "# ---\n",
        "# \n",
        "regressor = DecisionTreeRegressor(random_state=0)\n",
        "regressor.fit(X_train, y_train)"
      ],
      "execution_count": 0,
      "outputs": [
        {
          "output_type": "execute_result",
          "data": {
            "text/plain": [
              "DecisionTreeRegressor(ccp_alpha=0.0, criterion='mse', max_depth=None,\n",
              "                      max_features=None, max_leaf_nodes=None,\n",
              "                      min_impurity_decrease=0.0, min_impurity_split=None,\n",
              "                      min_samples_leaf=1, min_samples_split=2,\n",
              "                      min_weight_fraction_leaf=0.0, presort='deprecated',\n",
              "                      random_state=0, splitter='best')"
            ]
          },
          "metadata": {
            "tags": []
          },
          "execution_count": 165
        }
      ]
    },
    {
      "cell_type": "code",
      "metadata": {
        "id": "GjhkdN_pASIV",
        "colab_type": "code",
        "colab": {}
      },
      "source": [
        "# Making predictions using our model\n",
        "# ---\n",
        "#  \n",
        "y_pred = regressor.predict(X_test)"
      ],
      "execution_count": 0,
      "outputs": []
    },
    {
      "cell_type": "code",
      "metadata": {
        "id": "Gsu7oM_gAR8T",
        "colab_type": "code",
        "outputId": "50109b51-7a92-4dbb-edd1-607378b556a1",
        "colab": {
          "base_uri": "https://localhost:8080/",
          "height": 359
        }
      },
      "source": [
        "# Next, we compare actual output values for X_test with the predicted values\n",
        "# ---\n",
        "#\n",
        "df = pd.DataFrame({'Actual': y_test, 'Predicted': y_pred})\n",
        "df.sample(10)"
      ],
      "execution_count": 0,
      "outputs": [
        {
          "output_type": "execute_result",
          "data": {
            "text/html": [
              "<div>\n",
              "<style scoped>\n",
              "    .dataframe tbody tr th:only-of-type {\n",
              "        vertical-align: middle;\n",
              "    }\n",
              "\n",
              "    .dataframe tbody tr th {\n",
              "        vertical-align: top;\n",
              "    }\n",
              "\n",
              "    .dataframe thead th {\n",
              "        text-align: right;\n",
              "    }\n",
              "</style>\n",
              "<table border=\"1\" class=\"dataframe\">\n",
              "  <thead>\n",
              "    <tr style=\"text-align: right;\">\n",
              "      <th></th>\n",
              "      <th>Actual</th>\n",
              "      <th>Predicted</th>\n",
              "    </tr>\n",
              "  </thead>\n",
              "  <tbody>\n",
              "    <tr>\n",
              "      <th>77</th>\n",
              "      <td>19.2</td>\n",
              "      <td>14.70</td>\n",
              "    </tr>\n",
              "    <tr>\n",
              "      <th>90</th>\n",
              "      <td>37.9</td>\n",
              "      <td>48.85</td>\n",
              "    </tr>\n",
              "    <tr>\n",
              "      <th>42</th>\n",
              "      <td>23.6</td>\n",
              "      <td>21.40</td>\n",
              "    </tr>\n",
              "    <tr>\n",
              "      <th>64</th>\n",
              "      <td>42.2</td>\n",
              "      <td>39.40</td>\n",
              "    </tr>\n",
              "    <tr>\n",
              "      <th>80</th>\n",
              "      <td>46.7</td>\n",
              "      <td>51.00</td>\n",
              "    </tr>\n",
              "    <tr>\n",
              "      <th>107</th>\n",
              "      <td>18.8</td>\n",
              "      <td>17.40</td>\n",
              "    </tr>\n",
              "    <tr>\n",
              "      <th>113</th>\n",
              "      <td>35.6</td>\n",
              "      <td>38.10</td>\n",
              "    </tr>\n",
              "    <tr>\n",
              "      <th>29</th>\n",
              "      <td>24.7</td>\n",
              "      <td>22.00</td>\n",
              "    </tr>\n",
              "    <tr>\n",
              "      <th>57</th>\n",
              "      <td>37.5</td>\n",
              "      <td>35.50</td>\n",
              "    </tr>\n",
              "    <tr>\n",
              "      <th>109</th>\n",
              "      <td>15.6</td>\n",
              "      <td>20.00</td>\n",
              "    </tr>\n",
              "  </tbody>\n",
              "</table>\n",
              "</div>"
            ],
            "text/plain": [
              "     Actual  Predicted\n",
              "77     19.2      14.70\n",
              "90     37.9      48.85\n",
              "42     23.6      21.40\n",
              "64     42.2      39.40\n",
              "80     46.7      51.00\n",
              "107    18.8      17.40\n",
              "113    35.6      38.10\n",
              "29     24.7      22.00\n",
              "57     37.5      35.50\n",
              "109    15.6      20.00"
            ]
          },
          "metadata": {
            "tags": []
          },
          "execution_count": 167
        }
      ]
    },
    {
      "cell_type": "code",
      "metadata": {
        "id": "GYlWG9CzD4Fb",
        "colab_type": "code",
        "outputId": "90c1eee6-3808-40b8-dcf5-f12fdf7a4383",
        "colab": {
          "base_uri": "https://localhost:8080/",
          "height": 34
        }
      },
      "source": [
        "# Finally, we evaluating the algorithm\n",
        "# --- \n",
        "# The final step is to evaluate the performance of algorithm  \n",
        "# ---  \n",
        "#  \n",
        "print('Root Mean Squared Error:', np.sqrt(metrics.mean_squared_error(y_test, y_pred)))"
      ],
      "execution_count": 0,
      "outputs": [
        {
          "output_type": "stream",
          "text": [
            "Root Mean Squared Error: 10.726982386072569\n"
          ],
          "name": "stdout"
        }
      ]
    },
    {
      "cell_type": "markdown",
      "metadata": {
        "colab_type": "text",
        "id": "RaeZQ2_t7eUC"
      },
      "source": [
        "## 5. Support Vector Regression"
      ]
    },
    {
      "cell_type": "markdown",
      "metadata": {
        "colab_type": "text",
        "id": "5UjUUJgY7eUJ"
      },
      "source": [
        "#### <font color=\"green\">Challenge 5</font>"
      ]
    },
    {
      "cell_type": "markdown",
      "metadata": {
        "colab_type": "text",
        "id": "LpbIBm897eUK"
      },
      "source": [
        "##### <font color=\"green\">Challenge</font>"
      ]
    },
    {
      "cell_type": "code",
      "metadata": {
        "colab_type": "code",
        "id": "ljuhnH0k7eUL",
        "colab": {}
      },
      "source": [
        "# Challenge \n",
        "# ---\n",
        "# Using SVM, create a regression model to predict price using the given dataset.\n",
        "# ---\n",
        "# Dataset url = http://bit.ly/RealEstateDataset2\n",
        "# Hint: Drop missing values i.e. df.dropna()\n",
        "# ---\n",
        "# OUR CODE GOES BELOW\n",
        "#"
      ],
      "execution_count": 0,
      "outputs": []
    },
    {
      "cell_type": "code",
      "metadata": {
        "id": "OyrIlxaJGL49",
        "colab_type": "code",
        "outputId": "f5746f71-17c7-4168-d148-662439fba6f4",
        "colab": {
          "base_uri": "https://localhost:8080/",
          "height": 238
        }
      },
      "source": [
        "# Reading our dataset\n",
        "# ---\n",
        "# \n",
        "df = pd.read_csv('http://bit.ly/RealEstateDataset2')\n",
        "df.head()"
      ],
      "execution_count": 0,
      "outputs": [
        {
          "output_type": "execute_result",
          "data": {
            "text/html": [
              "<div>\n",
              "<style scoped>\n",
              "    .dataframe tbody tr th:only-of-type {\n",
              "        vertical-align: middle;\n",
              "    }\n",
              "\n",
              "    .dataframe tbody tr th {\n",
              "        vertical-align: top;\n",
              "    }\n",
              "\n",
              "    .dataframe thead th {\n",
              "        text-align: right;\n",
              "    }\n",
              "</style>\n",
              "<table border=\"1\" class=\"dataframe\">\n",
              "  <thead>\n",
              "    <tr style=\"text-align: right;\">\n",
              "      <th></th>\n",
              "      <th>No</th>\n",
              "      <th>X1 transaction date</th>\n",
              "      <th>X2 house age</th>\n",
              "      <th>X3 distance to the nearest MRT station</th>\n",
              "      <th>X4 number of convenience stores</th>\n",
              "      <th>X5 latitude</th>\n",
              "      <th>X6 longitude</th>\n",
              "      <th>Y house price of unit area</th>\n",
              "    </tr>\n",
              "  </thead>\n",
              "  <tbody>\n",
              "    <tr>\n",
              "      <th>0</th>\n",
              "      <td>1</td>\n",
              "      <td>2012.917</td>\n",
              "      <td>32.0</td>\n",
              "      <td>84.87882</td>\n",
              "      <td>10</td>\n",
              "      <td>24.98298</td>\n",
              "      <td>121.54024</td>\n",
              "      <td>37.9</td>\n",
              "    </tr>\n",
              "    <tr>\n",
              "      <th>1</th>\n",
              "      <td>2</td>\n",
              "      <td>2012.917</td>\n",
              "      <td>19.5</td>\n",
              "      <td>306.59470</td>\n",
              "      <td>9</td>\n",
              "      <td>24.98034</td>\n",
              "      <td>121.53951</td>\n",
              "      <td>42.2</td>\n",
              "    </tr>\n",
              "    <tr>\n",
              "      <th>2</th>\n",
              "      <td>3</td>\n",
              "      <td>2013.583</td>\n",
              "      <td>13.3</td>\n",
              "      <td>561.98450</td>\n",
              "      <td>5</td>\n",
              "      <td>24.98746</td>\n",
              "      <td>121.54391</td>\n",
              "      <td>47.3</td>\n",
              "    </tr>\n",
              "    <tr>\n",
              "      <th>3</th>\n",
              "      <td>4</td>\n",
              "      <td>2013.500</td>\n",
              "      <td>13.3</td>\n",
              "      <td>561.98450</td>\n",
              "      <td>5</td>\n",
              "      <td>24.98746</td>\n",
              "      <td>121.54391</td>\n",
              "      <td>54.8</td>\n",
              "    </tr>\n",
              "    <tr>\n",
              "      <th>4</th>\n",
              "      <td>5</td>\n",
              "      <td>2012.833</td>\n",
              "      <td>5.0</td>\n",
              "      <td>390.56840</td>\n",
              "      <td>5</td>\n",
              "      <td>24.97937</td>\n",
              "      <td>121.54245</td>\n",
              "      <td>43.1</td>\n",
              "    </tr>\n",
              "  </tbody>\n",
              "</table>\n",
              "</div>"
            ],
            "text/plain": [
              "   No  X1 transaction date  ...  X6 longitude  Y house price of unit area\n",
              "0   1             2012.917  ...     121.54024                        37.9\n",
              "1   2             2012.917  ...     121.53951                        42.2\n",
              "2   3             2013.583  ...     121.54391                        47.3\n",
              "3   4             2013.500  ...     121.54391                        54.8\n",
              "4   5             2012.833  ...     121.54245                        43.1\n",
              "\n",
              "[5 rows x 8 columns]"
            ]
          },
          "metadata": {
            "tags": []
          },
          "execution_count": 157
        }
      ]
    },
    {
      "cell_type": "code",
      "metadata": {
        "id": "AMaU1J2hGLha",
        "colab_type": "code",
        "colab": {}
      },
      "source": [
        "# Summary Statistics\n",
        "# ---\n",
        "# \n",
        "df.describe()"
      ],
      "execution_count": 0,
      "outputs": []
    },
    {
      "cell_type": "code",
      "metadata": {
        "id": "1jKX7adrGLfD",
        "colab_type": "code",
        "colab": {}
      },
      "source": [
        "# We will drop the No and X1 transaction date columns\n",
        "# ---\n",
        "#  \n",
        "df.drop([\"No\", \"X1 transaction date\"], axis = 1, inplace = True)  "
      ],
      "execution_count": 0,
      "outputs": []
    },
    {
      "cell_type": "code",
      "metadata": {
        "id": "e-kX2gFjHG8E",
        "colab_type": "code",
        "colab": {}
      },
      "source": [
        "df.head()"
      ],
      "execution_count": 0,
      "outputs": []
    },
    {
      "cell_type": "code",
      "metadata": {
        "id": "4UfyyYjiGLcm",
        "colab_type": "code",
        "colab": {}
      },
      "source": [
        "## Performing Exploratory Analysis\n",
        "# ---\n",
        "# This time we will plot a correlation matrix, to determine the relationships between the different variables.\n",
        "# This matrix will give us a sense of how well the variables are correlated. By this we mean, whether an\n",
        "# increase or decrease in variable affects the other variable. \n",
        "# To break this down further, the matrix will provide us with values between -1 and 1. If the value between\n",
        "# two variables is closer to 1 i.e. > 0.5, then it means the variables are strongly correlated, have a positive linear \n",
        "# relationship and it also means that as one value increases the other increases.\n",
        "# On the other hand, of the value is less than -0.5, it would mean that the variables are strongly correlated but \n",
        "# have a negative linear relationship. \n",
        "# If the value is 0 or < -0.5 or < 0.5 it means that the variables don't have any relationship with each other.\n",
        "# ---\n",
        "# Understanding whether our label i.e. Weight has a high correlation with other variables, helps us to deal \n",
        "# with the concept of Multicollinearity which would weaken the statistical power of your regression model. \n",
        "# For now, Multicollinearity is a topic beyond the scope of our session. However, it is usually important to \n",
        "# note that having highly correlated variables within our dataset weakens our model.\n",
        "# ---\n",
        "#\n",
        "corrMatrix = df.corr()\n",
        "corrMatrix"
      ],
      "execution_count": 0,
      "outputs": []
    },
    {
      "cell_type": "code",
      "metadata": {
        "id": "XFWf3zaCGLaP",
        "colab_type": "code",
        "colab": {}
      },
      "source": [
        "# We can plot a visualisation of the matrix for better clarity\n",
        "# --- \n",
        "# \n",
        "import seaborn as sns\n",
        "\n",
        "plt.figure(figsize=(10, 10)) \n",
        "sns.heatmap(corrMatrix, annot = True) "
      ],
      "execution_count": 0,
      "outputs": []
    },
    {
      "cell_type": "code",
      "metadata": {
        "id": "UgZVq3NqGLVK",
        "colab_type": "code",
        "colab": {}
      },
      "source": [
        "# Data Preparation\n",
        "# ---\n",
        "# We now divide our data into \"attributes\" and \"labels\".\n",
        "# a) Attributes are the independent variables. \n",
        "# They will be stored in the X variable, specifying \"-1\" as the range for columns \n",
        "# since we want our attribute set to contain all the columns \n",
        "# except the last one which is \"scores\".\n",
        "# \n",
        "# b) Labels are the dependent variables. \n",
        "# They will be contained in the y variable, specifying 1 for the label colum \n",
        "# since the index for \"scores\" column is 1.\n",
        "# \n",
        "# * NB: Column indexes start with 0, 1 being the second, 2 being third etc.\n",
        "# - Because We are predicting the percentage score depending on hours studied, \n",
        "# our attribute set will consist of \"hours\", while the lable will be \"score\"\n",
        "# \n",
        "# * As we will get to see in another example, we can also specify the column names to \n",
        "# select our attributes and label \n",
        "# ---\n",
        "# \n",
        "X = df.iloc[:, :-1].values\n",
        "y = df.iloc[:, -1].values"
      ],
      "execution_count": 0,
      "outputs": []
    },
    {
      "cell_type": "code",
      "metadata": {
        "id": "wJyUsfnwGLNF",
        "colab_type": "code",
        "colab": {}
      },
      "source": [
        "# We split our dataset as shown below\n",
        "# ---\n",
        "# The test size of 0.4 indicates we’ve used 40% of the data for testing. \n",
        "# Random_state ensures reproducibility.\n",
        "# ---\n",
        "#\n",
        "X_train, X_test, y_train, y_test = train_test_split(X, y, test_size=.4)"
      ],
      "execution_count": 0,
      "outputs": []
    },
    {
      "cell_type": "code",
      "metadata": {
        "id": "xmHTZTPHGpk0",
        "colab_type": "code",
        "colab": {}
      },
      "source": [
        "# Performing feature scaling\n",
        "# ---\n",
        "#\n",
        "from sklearn.preprocessing import StandardScaler\n",
        "sc_X = StandardScaler()\n",
        "sc_y = StandardScaler()\n",
        "\n",
        "X_train = sc_X.fit_transform(X_train)\n",
        "X_test = sc_y.fit_transform(X_test)"
      ],
      "execution_count": 0,
      "outputs": []
    },
    {
      "cell_type": "code",
      "metadata": {
        "id": "nkNUztDHGouO",
        "colab_type": "code",
        "colab": {}
      },
      "source": [
        "# Fitting in our model / Training our Algorithm \n",
        "# ---\n",
        "# We use the kernel type: 'linear'.\n",
        "# Other kernel types: rbf, polynomial, sigmoid\n",
        "# \n",
        "\n",
        "# We first import our model from sklearn.svm\n",
        "# ---\n",
        "# \n",
        "from sklearn.svm import SVR\n",
        "\n",
        "# Then perform our training/fitting\n",
        "# ---\n",
        "#\n",
        "regressor = SVR(kernel='linear')\n",
        "regressor.fit(X_train, y_train)"
      ],
      "execution_count": 0,
      "outputs": []
    },
    {
      "cell_type": "code",
      "metadata": {
        "id": "6at8Dzg-GK-p",
        "colab_type": "code",
        "colab": {}
      },
      "source": [
        "# Making predictions using our model\n",
        "# ---\n",
        "#  \n",
        "y_pred = regressor.predict(X_test)"
      ],
      "execution_count": 0,
      "outputs": []
    },
    {
      "cell_type": "code",
      "metadata": {
        "id": "4BXmuR78GwYh",
        "colab_type": "code",
        "colab": {}
      },
      "source": [
        "# Finally, we evaluating the algorithm\n",
        "# --- \n",
        "# The final step is to evaluate the performance of algorithm  \n",
        "# ---  \n",
        "#  \n",
        "print('Root Mean Squared Error:', np.sqrt(metrics.mean_squared_error(y_test, y_pred)))"
      ],
      "execution_count": 0,
      "outputs": []
    }
  ]
}